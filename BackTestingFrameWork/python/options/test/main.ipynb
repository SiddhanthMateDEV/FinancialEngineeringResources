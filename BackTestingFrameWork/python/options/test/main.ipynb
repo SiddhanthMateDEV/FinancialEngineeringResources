{
 "cells": [
  {
   "cell_type": "code",
   "execution_count": 11,
   "metadata": {},
   "outputs": [],
   "source": [
    "import numpy as np"
   ]
  },
  {
   "cell_type": "code",
   "execution_count": 15,
   "metadata": {},
   "outputs": [],
   "source": [
    "class Vector:\n",
    "    def __init__(self,x,y):\n",
    "        self.x = x\n",
    "        self.y = y\n",
    "    \n",
    "    def __add__(self,other):\n",
    "        return Vector(self.x + other.x, self.y + other.y)\n",
    "    \n",
    "    def __len__(self):\n",
    "        return 10\n",
    "    \n",
    "    def __repr__(self):\n",
    "        return f\"X: {self.x}, Y: {self.y}\"\n",
    "    \n",
    "    def __call__(self):\n",
    "        print(\"Hello I was called\")\n"
   ]
  },
  {
   "cell_type": "code",
   "execution_count": 16,
   "metadata": {},
   "outputs": [],
   "source": [
    "v1 = Vector(10,20)\n",
    "v2 = Vector(20,40)\n",
    "v3 = v1+v2"
   ]
  },
  {
   "cell_type": "code",
   "execution_count": 17,
   "metadata": {},
   "outputs": [
    {
     "name": "stdout",
     "output_type": "stream",
     "text": [
      "10\n"
     ]
    }
   ],
   "source": [
    "print(len(v3))"
   ]
  },
  {
   "cell_type": "code",
   "execution_count": 18,
   "metadata": {},
   "outputs": [
    {
     "name": "stdout",
     "output_type": "stream",
     "text": [
      "Hello I was called\n"
     ]
    }
   ],
   "source": [
    "v3()"
   ]
  },
  {
   "cell_type": "code",
   "execution_count": 30,
   "metadata": {},
   "outputs": [],
   "source": [
    "def myDecorator(function):\n",
    "    def wrapper(*args,**kwargs):\n",
    "        print(\"I am decorating your function\")\n",
    "        return_value = function(*args,**kwargs)\n",
    "        return return_value\n",
    "\n",
    "    return wrapper\n",
    "\n",
    "@myDecorator\n",
    "def hello_world(person):\n",
    "    print(f\"Hello {person}\")\n",
    "    return f\"Hello {person}\"\n",
    "\n",
    "\n"
   ]
  },
  {
   "cell_type": "code",
   "execution_count": 31,
   "metadata": {},
   "outputs": [
    {
     "name": "stdout",
     "output_type": "stream",
     "text": [
      "I am decorating your function\n",
      "Hello Mike\n",
      "Hello Mike\n"
     ]
    }
   ],
   "source": [
    "print(hello_world(\"Mike\"))"
   ]
  },
  {
   "cell_type": "code",
   "execution_count": null,
   "metadata": {},
   "outputs": [],
   "source": []
  }
 ],
 "metadata": {
  "kernelspec": {
   "display_name": "FinEng.env",
   "language": "python",
   "name": "python3"
  },
  "language_info": {
   "codemirror_mode": {
    "name": "ipython",
    "version": 3
   },
   "file_extension": ".py",
   "mimetype": "text/x-python",
   "name": "python",
   "nbconvert_exporter": "python",
   "pygments_lexer": "ipython3",
   "version": "3.12.4"
  }
 },
 "nbformat": 4,
 "nbformat_minor": 2
}
