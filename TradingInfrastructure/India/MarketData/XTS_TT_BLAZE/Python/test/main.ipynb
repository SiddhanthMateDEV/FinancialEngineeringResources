{
 "cells": [
  {
   "cell_type": "code",
   "execution_count": 2,
   "metadata": {},
   "outputs": [],
   "source": [
    "import sys\n",
    "import os\n",
    "import configparser"
   ]
  },
  {
   "cell_type": "markdown",
   "metadata": {},
   "source": [
    "This Section is meant to test MarketDataApiCredentials Class Inside the Login directory:"
   ]
  },
  {
   "cell_type": "code",
   "execution_count": 3,
   "metadata": {},
   "outputs": [],
   "source": [
    "sys.path.append('../')"
   ]
  },
  {
   "cell_type": "code",
   "execution_count": 4,
   "metadata": {},
   "outputs": [],
   "source": [
    "from login.main import MarketDataApiCredentials\n",
    "from market_data_api.main import MarketDataFunctions"
   ]
  },
  {
   "cell_type": "markdown",
   "metadata": {},
   "source": [
    "<h1><strong>Market Data Functions Class<strong></h1>"
   ]
  },
  {
   "cell_type": "code",
   "execution_count": 5,
   "metadata": {},
   "outputs": [],
   "source": [
    "config = configparser.ConfigParser()"
   ]
  },
  {
   "cell_type": "code",
   "execution_count": 7,
   "metadata": {},
   "outputs": [
    {
     "data": {
      "text/plain": [
       "['./login.ini']"
      ]
     },
     "execution_count": 7,
     "metadata": {},
     "output_type": "execute_result"
    }
   ],
   "source": [
    "config.read(\"./login.ini\")"
   ]
  },
  {
   "cell_type": "code",
   "execution_count": 9,
   "metadata": {},
   "outputs": [],
   "source": [
    "secret_key = config['KEYS']['SECRET_KEY']"
   ]
  },
  {
   "cell_type": "code",
   "execution_count": 10,
   "metadata": {},
   "outputs": [],
   "source": [
    "api_key = config['KEYS']['API_KEY']"
   ]
  },
  {
   "cell_type": "code",
   "execution_count": 6,
   "metadata": {},
   "outputs": [],
   "source": [
    "mdf = MarketDataFunctions(secretKey = secret_key,\n",
    "                          apiKey = api_key)"
   ]
  },
  {
   "cell_type": "code",
   "execution_count": 7,
   "metadata": {},
   "outputs": [
    {
     "name": "stdout",
     "output_type": "stream",
     "text": [
      "<Response [200]>\n"
     ]
    }
   ],
   "source": [
    "mdf.ClientConfigResponse()"
   ]
  },
  {
   "cell_type": "code",
   "execution_count": 8,
   "metadata": {},
   "outputs": [],
   "source": [
    "idx_list_cm = mdf.IndexListResponse(exchange_segment = 1)"
   ]
  },
  {
   "cell_type": "code",
   "execution_count": 9,
   "metadata": {},
   "outputs": [
    {
     "name": "stdout",
     "output_type": "stream",
     "text": [
      "['NIFTY 50_26000', 'NIFTY BANK_26001', 'INDIA VIX_26002', 'NIFTY IT_26003', 'NIFTY 100_26004', 'NIFTY MIDCAP 50_26005', 'NIFTY GS 11 15YR_26006', 'NIFTY INFRA_26007', 'NIFTY100 LIQ 15_26008', 'NIFTY REALTY_26009', 'NIFTY CPSE_26010', 'NIFTY GS COMPSITE_26011', 'NIFTY OIL AND GAS_26012', 'NIFTY50 TR 1X INV_26013', 'NIFTY PHARMA_26014', 'NIFTY PSE_26015', 'NIFTY MIDCAP 150_26016', 'NIFTY MIDCAP 100_26017', 'NIFTY SERV SECTOR_26018', 'NIFTY 500_26019', 'NIFTY ALPHA 50_26020', 'NIFTY50 VALUE 20_26021', 'NIFTY200 QUALTY30_26022', 'NIFTY SMLCAP 250_26023', 'NIFTY GROWSECT 15_26024', 'NIFTY50 PR 1X INV_26025', 'NIFTY50 EQL WGT_26026', 'NIFTY PSU BANK_26027', 'NIFTY SMLCAP 100_26028', 'NIFTY LARGEMID250_26029', 'NIFTY100 EQL WGT_26030', 'NIFTY SMLCAP 50_26031', 'NIFTY ENERGY_26032', 'NIFTY GS 10YR_26033', 'NIFTY FIN SERVICE_26034', 'NIFTY MIDSML 400_26035', 'NIFTY METAL_26036', 'NIFTY CONSR DURBL_26037', 'NIFTY DIV OPPS 50_26038', 'NIFTY GS 15YRPLUS_26039', 'NIFTY MEDIA_26040', 'NIFTY FMCG_26041', 'NIFTY PVT BANK_26042', 'NIFTY200MOMENTM30_26043', 'HANGSENG BEES-NAV_26044', 'NIFTY100 LOWVOL30_26045', 'NIFTY50 TR 2X LEV_26046', 'NIFTY CONSUMPTION_26047', 'NIFTY GS 8 13YR_26048', 'NIFTY100ESGSECLDR_26049', 'NIFTY GS 10YR CLN_26050', 'NIFTY GS 4 8YR_26051', 'NIFTY AUTO_26052', 'NIFTY COMMODITIES_26053', 'NIFTY NEXT 50_26054', 'NIFTY MNC_26055', 'NIFTY MID LIQ 15_26056', 'NIFTY HEALTHCARE_26057', 'NIFTY500 MULTICAP_26058', 'NIFTY ALPHALOWVOL_26059', 'NIFTY FINSRV25 50_26060', 'NIFTY50 PR 2X LEV_26061', 'NIFTY100 QUALTY30_26062', 'NIFTY50 DIV POINT_26063', 'NIFTY 200_26064', 'NIFTY MID SELECT_26121', 'NIFTY MIDSML HLTH_26122', 'NIFTY MULTI INFRA_26123', 'NIFTY MULTI MFG_26124', 'NIFTY TATA 25 CAP_26125']\n"
     ]
    }
   ],
   "source": [
    "print(idx_list_cm)"
   ]
  },
  {
   "cell_type": "code",
   "execution_count": 10,
   "metadata": {},
   "outputs": [],
   "source": [
    "idx_list_resp = mdf.IndexListResponse(1)"
   ]
  },
  {
   "cell_type": "code",
   "execution_count": 11,
   "metadata": {},
   "outputs": [
    {
     "name": "stdout",
     "output_type": "stream",
     "text": [
      "['NIFTY 50_26000', 'NIFTY BANK_26001', 'INDIA VIX_26002', 'NIFTY IT_26003', 'NIFTY 100_26004', 'NIFTY MIDCAP 50_26005', 'NIFTY GS 11 15YR_26006', 'NIFTY INFRA_26007', 'NIFTY100 LIQ 15_26008', 'NIFTY REALTY_26009', 'NIFTY CPSE_26010', 'NIFTY GS COMPSITE_26011', 'NIFTY OIL AND GAS_26012', 'NIFTY50 TR 1X INV_26013', 'NIFTY PHARMA_26014', 'NIFTY PSE_26015', 'NIFTY MIDCAP 150_26016', 'NIFTY MIDCAP 100_26017', 'NIFTY SERV SECTOR_26018', 'NIFTY 500_26019', 'NIFTY ALPHA 50_26020', 'NIFTY50 VALUE 20_26021', 'NIFTY200 QUALTY30_26022', 'NIFTY SMLCAP 250_26023', 'NIFTY GROWSECT 15_26024', 'NIFTY50 PR 1X INV_26025', 'NIFTY50 EQL WGT_26026', 'NIFTY PSU BANK_26027', 'NIFTY SMLCAP 100_26028', 'NIFTY LARGEMID250_26029', 'NIFTY100 EQL WGT_26030', 'NIFTY SMLCAP 50_26031', 'NIFTY ENERGY_26032', 'NIFTY GS 10YR_26033', 'NIFTY FIN SERVICE_26034', 'NIFTY MIDSML 400_26035', 'NIFTY METAL_26036', 'NIFTY CONSR DURBL_26037', 'NIFTY DIV OPPS 50_26038', 'NIFTY GS 15YRPLUS_26039', 'NIFTY MEDIA_26040', 'NIFTY FMCG_26041', 'NIFTY PVT BANK_26042', 'NIFTY200MOMENTM30_26043', 'HANGSENG BEES-NAV_26044', 'NIFTY100 LOWVOL30_26045', 'NIFTY50 TR 2X LEV_26046', 'NIFTY CONSUMPTION_26047', 'NIFTY GS 8 13YR_26048', 'NIFTY100ESGSECLDR_26049', 'NIFTY GS 10YR CLN_26050', 'NIFTY GS 4 8YR_26051', 'NIFTY AUTO_26052', 'NIFTY COMMODITIES_26053', 'NIFTY NEXT 50_26054', 'NIFTY MNC_26055', 'NIFTY MID LIQ 15_26056', 'NIFTY HEALTHCARE_26057', 'NIFTY500 MULTICAP_26058', 'NIFTY ALPHALOWVOL_26059', 'NIFTY FINSRV25 50_26060', 'NIFTY50 PR 2X LEV_26061', 'NIFTY100 QUALTY30_26062', 'NIFTY50 DIV POINT_26063', 'NIFTY 200_26064', 'NIFTY MID SELECT_26121', 'NIFTY MIDSML HLTH_26122', 'NIFTY MULTI INFRA_26123', 'NIFTY MULTI MFG_26124', 'NIFTY TATA 25 CAP_26125']\n"
     ]
    }
   ],
   "source": [
    "print(idx_list_resp)"
   ]
  },
  {
   "cell_type": "code",
   "execution_count": 12,
   "metadata": {},
   "outputs": [],
   "source": [
    "mdf.MasterData()"
   ]
  },
  {
   "cell_type": "code",
   "execution_count": null,
   "metadata": {},
   "outputs": [],
   "source": []
  }
 ],
 "metadata": {
  "kernelspec": {
   "display_name": "venv",
   "language": "python",
   "name": "python3"
  },
  "language_info": {
   "codemirror_mode": {
    "name": "ipython",
    "version": 3
   },
   "file_extension": ".py",
   "mimetype": "text/x-python",
   "name": "python",
   "nbconvert_exporter": "python",
   "pygments_lexer": "ipython3",
   "version": "3.12.4"
  }
 },
 "nbformat": 4,
 "nbformat_minor": 2
}
