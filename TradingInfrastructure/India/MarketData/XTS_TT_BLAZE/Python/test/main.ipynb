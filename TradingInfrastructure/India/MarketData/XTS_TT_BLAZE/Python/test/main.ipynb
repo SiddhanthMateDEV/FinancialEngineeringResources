{
 "cells": [
  {
   "cell_type": "code",
   "execution_count": 2,
   "metadata": {},
   "outputs": [],
   "source": [
    "import sys\n",
    "import os\n",
    "from dotenv import load_dotenv"
   ]
  },
  {
   "cell_type": "code",
   "execution_count": 8,
   "metadata": {},
   "outputs": [],
   "source": [
    "__file__ = \"../../../XTS_TT_BLAZE/Python/\"\n",
    "root_dir = os.path.abspath(os.path.join(os.path.dirname(__file__), '..'))"
   ]
  },
  {
   "cell_type": "code",
   "execution_count": 10,
   "metadata": {},
   "outputs": [
    {
     "data": {
      "text/plain": [
       "'/Users/siddhanthmate/Desktop/AllFiles/CODE/FinancialEngineering/TradingInfrastructure/India/MarketData/XTS_TT_BLAZE'"
      ]
     },
     "execution_count": 10,
     "metadata": {},
     "output_type": "execute_result"
    }
   ],
   "source": [
    "root_dir"
   ]
  },
  {
   "cell_type": "code",
   "execution_count": 12,
   "metadata": {},
   "outputs": [
    {
     "name": "stdout",
     "output_type": "stream",
     "text": [
      "Unexpected exception formatting exception. Falling back to standard exception\n"
     ]
    },
    {
     "name": "stderr",
     "output_type": "stream",
     "text": [
      "Traceback (most recent call last):\n",
      "  File \"/Users/siddhanthmate/Desktop/AllFiles/CODE/FinancialEngineering/FinEng.env/lib/python3.12/site-packages/IPython/core/interactiveshell.py\", line 3577, in run_code\n",
      "  File \"/var/folders/fr/n67zdn_900903cqchbj_j3p00000gn/T/ipykernel_20131/3813542118.py\", line 1, in <module>\n",
      "    from login.main import MarketDataApiCredentials\n",
      "ModuleNotFoundError: No module named 'login'\n",
      "\n",
      "During handling of the above exception, another exception occurred:\n",
      "\n",
      "Traceback (most recent call last):\n",
      "  File \"/Users/siddhanthmate/Desktop/AllFiles/CODE/FinancialEngineering/FinEng.env/lib/python3.12/site-packages/pygments/styles/__init__.py\", line 45, in get_style_by_name\n",
      "ModuleNotFoundError: No module named 'pygments.styles.default'\n",
      "\n",
      "During handling of the above exception, another exception occurred:\n",
      "\n",
      "Traceback (most recent call last):\n",
      "  File \"/Users/siddhanthmate/Desktop/AllFiles/CODE/FinancialEngineering/FinEng.env/lib/python3.12/site-packages/IPython/core/interactiveshell.py\", line 2168, in showtraceback\n",
      "  File \"/Users/siddhanthmate/Desktop/AllFiles/CODE/FinancialEngineering/FinEng.env/lib/python3.12/site-packages/IPython/core/ultratb.py\", line 1454, in structured_traceback\n",
      "  File \"/Users/siddhanthmate/Desktop/AllFiles/CODE/FinancialEngineering/FinEng.env/lib/python3.12/site-packages/IPython/core/ultratb.py\", line 1345, in structured_traceback\n",
      "  File \"/Users/siddhanthmate/Desktop/AllFiles/CODE/FinancialEngineering/FinEng.env/lib/python3.12/site-packages/IPython/core/ultratb.py\", line 1192, in structured_traceback\n",
      "  File \"/Users/siddhanthmate/Desktop/AllFiles/CODE/FinancialEngineering/FinEng.env/lib/python3.12/site-packages/IPython/core/ultratb.py\", line 1082, in format_exception_as_a_whole\n",
      "  File \"/Users/siddhanthmate/Desktop/AllFiles/CODE/FinancialEngineering/FinEng.env/lib/python3.12/site-packages/IPython/core/ultratb.py\", line 1133, in get_records\n",
      "  File \"/Users/siddhanthmate/Desktop/AllFiles/CODE/FinancialEngineering/FinEng.env/lib/python3.12/site-packages/pygments/styles/__init__.py\", line 47, in get_style_by_name\n",
      "pygments.util.ClassNotFound: Could not find style module 'pygments.styles.default', though it should be builtin.\n"
     ]
    }
   ],
   "source": [
    "from login.main import MarketDataApiCredentials"
   ]
  },
  {
   "cell_type": "code",
   "execution_count": null,
   "metadata": {},
   "outputs": [],
   "source": []
  }
 ],
 "metadata": {
  "kernelspec": {
   "display_name": "venv",
   "language": "python",
   "name": "python3"
  },
  "language_info": {
   "codemirror_mode": {
    "name": "ipython",
    "version": 3
   },
   "file_extension": ".py",
   "mimetype": "text/x-python",
   "name": "python",
   "nbconvert_exporter": "python",
   "pygments_lexer": "ipython3",
   "version": "3.12.4"
  }
 },
 "nbformat": 4,
 "nbformat_minor": 2
}
